{
 "cells": [
  {
   "cell_type": "code",
   "execution_count": 1,
   "id": "c7690850-3e0e-452b-bd63-e1af7c07196b",
   "metadata": {},
   "outputs": [],
   "source": [
    "import numpy as np\n",
    "import matplotlib.pyplot as plt\n",
    "import gymnasium as gym\n",
    "import joblib\n",
    "import pandas as pd\n",
    "from gymnasium import spaces\n",
    "from xgboost import XGBClassifier"
   ]
  },
  {
   "cell_type": "code",
   "execution_count": 134,
   "id": "e200cb3f-8fab-4c31-9264-dd34a892fd65",
   "metadata": {},
   "outputs": [],
   "source": [
    "class CleaveEnv(gym.Env):\n",
    "\n",
    "    metadata = {'render_modes': ['human']}\n",
    "\n",
    "    def __init__(self, csv_path, cnn_path, xgb_path):\n",
    "        super().__init__()\n",
    "        \n",
    "        self.cnn_surrogate = joblib.load(cnn_path)\n",
    "        self.xgb_surrogate = joblib.load(xgb_path)\n",
    "\n",
    "        self.df = pd.read_csv(csv_path)\n",
    "        self.df = pd.get_dummies(self.df, columns=['FiberType'], dtype=np.int32)\n",
    "        \n",
    "        self.model_features = self.cnn_surrogate.feature_names_in_\n",
    "\n",
    "        self.action_space = spaces.Box(low=-10.0, high=10.0, shape=(1,), dtype=np.float32)\n",
    "\n",
    "        inputs = [\n",
    "        \"CleaveTension\",\n",
    "        \"Diameter\",\n",
    "        \"FiberType_400LA\",\n",
    "        \"FiberType_FG250LA\",\n",
    "        \"FiberType_PM15U25d\"\n",
    "        ]\n",
    "        self.context_df = self.df[inputs]\n",
    "        observations_total = 3 + len(self.context_df.columns)\n",
    "\n",
    "\n",
    "        self.observation_space = spaces.Box(low=-np.inf, high=np.inf, shape=(observations_total,), dtype=np.float32)\n",
    "\n",
    "        self.max_steps = 15\n",
    "        self.current_step = 0\n",
    "        self.current_context=None\n",
    "        self.current_tension = 0\n",
    "        self.render_mode = None\n",
    "\n",
    "    def reset(self, seed=None, options=None):\n",
    "\n",
    "        super().reset(seed=seed)\n",
    "\n",
    "        self.current_context = self.context_df.sample(n=1, random_state=self.np_random)\n",
    "\n",
    "        self.current_tension = self.current_context['CleaveTension'].iloc[0]\n",
    "        self.current_step = 0\n",
    "\n",
    "        last_cnn_pred = 0\n",
    "        last_xgb_pred = 0\n",
    "\n",
    "        observation = self._create_observation(last_cnn_pred, last_xgb_pred)\n",
    "\n",
    "        if self.render_mode == \"human\":\n",
    "            print(\"\\n---------------EPISODE RESET----------------------\")\n",
    "            print(f\"New Scenario: Fiber = {self._get_current_fiber_type()} Start Tension = {self.current_tension:.0f}\")\n",
    "\n",
    "        return observation, {}\n",
    "\n",
    "    def step(self, action):\n",
    "        delta_tension = round(action[0])\n",
    "        self.current_tension = self.current_tension + delta_tension\n",
    "        self.current_tension = np.clip(self.current_tension, 50, 2000)\n",
    "        self.current_step = self.current_step + 1\n",
    "\n",
    "        model_inputs = self.current_context.copy()\n",
    "        model_inputs['CleaveTension'] = self.current_tension\n",
    "        model_inputs = model_inputs[self.model_features]\n",
    "\n",
    "        cnn_probs = self.cnn_surrogate.predict_proba(model_inputs)[0]\n",
    "        xgb_probs = self.xgb_surrogate.predict_proba(model_inputs)[0]\n",
    "        \n",
    "        cnn_pred = np.random.choice(self.cnn_surrogate.classes_, p=cnn_probs)\n",
    "        xgb_pred = np.random.choice(self.xgb_surrogate.classes_, p=xgb_probs)\n",
    "\n",
    "        terminated = False\n",
    "        if cnn_pred == 1:\n",
    "            reward = 100.0\n",
    "            terminated = True\n",
    "        else:\n",
    "            reward = -1.0\n",
    "\n",
    "        if abs(delta_tension) < 1.0: \n",
    "            reward -= 2.0\n",
    "\n",
    "        action_cost = 0.05 * abs(delta_tension)\n",
    "        reward = reward - action_cost\n",
    "\n",
    "        #if(xgb_pred == 0 and delta_tension < 0) or \\\n",
    "        #(xgb_pred == 2 and delta_tension > 0):\n",
    "           # reward = reward + 1.0\n",
    "\n",
    "        truncated = self.current_step >= self.max_steps\n",
    "        if truncated and not terminated:\n",
    "            reward = reward - 25.0\n",
    "\n",
    "        if self.render_mode == \"human\":\n",
    "            self.render(action, cnn_pred, xgb_pred, reward)\n",
    "        observation = self._create_observation(cnn_pred, xgb_pred)\n",
    "        return observation, reward, terminated, truncated, {}\n",
    "\n",
    "    def _get_current_fiber_type(self):\n",
    "        for col_name in self.current_context.columns:\n",
    "            if 'FiberType_' in col_name and self.current_context[col_name].iloc[0] == 1.0:\n",
    "                return col_name.replace('FiberType_', '')\n",
    "        return \"Unknown\"\n",
    "\n",
    "    def _create_observation(self, cnn_pred, xgb_pred):\n",
    "        return np.concatenate([\n",
    "            [self.current_tension],\n",
    "            [cnn_pred, xgb_pred],\n",
    "            self.current_context.values[0]\n",
    "        ]).astype(np.float32)\n",
    "\n",
    "    def render(self, action, cnn_pred, xgb_pred, reward):\n",
    "        action_str = f\"{action[0]:+.2f}\"\n",
    "        cnn_str = \"GOOD\" if cnn_pred == 1 else \"BAD\"\n",
    "        xgb_map = {0: \"LOWER\", 1: \"SAME\", 2: \"RAISE\"}\n",
    "        xgb_str = xgb_map.get(xgb_pred, \"????\")\n",
    "\n",
    "        print(f\"Step {self.current_step:2d} Tension: {self.current_tension:6.1f} (Action: {action_str:6s}) -> CNN: {cnn_str:4s}, XGB: {xgb_str:5s} | Reward: {reward:6.1f}\")\n",
    "    "
   ]
  },
  {
   "cell_type": "code",
   "execution_count": 135,
   "id": "a4eccd20-7715-4d6c-bb67-d745c86e3740",
   "metadata": {},
   "outputs": [],
   "source": [
    "csv_path = \"C:\\\\Users\\\\clombardi\\\\RL\\\\data_updated.csv\"\n",
    "cnn_path= \"C:\\\\Users\\\\clombardi\\\\RL\\\\cnn_surrogate3.pkl\"\n",
    "xgb_path = \"C:\\\\Users\\\\clombardi\\\\RL\\\\xgb_surrogate3.pkl\"\n",
    "env = CleaveEnv(csv_path=csv_path, cnn_path=cnn_path, xgb_path=xgb_path)"
   ]
  },
  {
   "cell_type": "code",
   "execution_count": 136,
   "id": "64129ba2-052d-4ec9-8d0a-175892245c0c",
   "metadata": {},
   "outputs": [
    {
     "name": "stderr",
     "output_type": "stream",
     "text": [
      "C:\\Users\\clombardi\\machine_learning\\lib\\site-packages\\stable_baselines3\\common\\env_checker.py:462: UserWarning: We recommend you to use a symmetric and normalized Box action space (range=[-1, 1]) cf. https://stable-baselines3.readthedocs.io/en/master/guide/rl_tips.html\n",
      "  warnings.warn(\n"
     ]
    }
   ],
   "source": [
    "from stable_baselines3 import SAC\n",
    "from stable_baselines3.common.env_checker import check_env\n",
    "import os\n",
    "\n",
    "check_env(env)"
   ]
  },
  {
   "cell_type": "code",
   "execution_count": 137,
   "id": "81b83ca5-20fd-419d-a149-776385679146",
   "metadata": {},
   "outputs": [],
   "source": [
    "agent = SAC(\n",
    "    \"MlpPolicy\",            \n",
    "    env,\n",
    "    device=\"cuda\",\n",
    "    verbose=0,\n",
    "    ent_coef='auto',\n",
    "    learning_rate=2e-4,\n",
    "    batch_size=1028\n",
    "        )"
   ]
  },
  {
   "cell_type": "code",
   "execution_count": 138,
   "id": "95017168-6928-4b6c-a855-dacde6285cbf",
   "metadata": {},
   "outputs": [
    {
     "data": {
      "application/vnd.jupyter.widget-view+json": {
       "model_id": "331ec09d21b34839ae2b23bb8f84be0a",
       "version_major": 2,
       "version_minor": 0
      },
      "text/plain": [
       "Output()"
      ]
     },
     "metadata": {},
     "output_type": "display_data"
    },
    {
     "data": {
      "text/html": [
       "<pre style=\"white-space:pre;overflow-x:auto;line-height:normal;font-family:Menlo,'DejaVu Sans Mono',consolas,'Courier New',monospace\"></pre>\n"
      ],
      "text/plain": []
     },
     "metadata": {},
     "output_type": "display_data"
    },
    {
     "data": {
      "text/plain": [
       "<stable_baselines3.sac.sac.SAC at 0x1e5d2e36800>"
      ]
     },
     "execution_count": 138,
     "metadata": {},
     "output_type": "execute_result"
    }
   ],
   "source": [
    "agent.learn(total_timesteps=5000, progress_bar=True)"
   ]
  },
  {
   "cell_type": "code",
   "execution_count": 139,
   "id": "98133ef6-efef-47c3-988f-fba019a26fae",
   "metadata": {},
   "outputs": [],
   "source": [
    "agent_save_path = \"C:\\\\Users\\\\clombardi\\\\RL\\\\agent6\"\n",
    "agent.save(agent_save_path)"
   ]
  },
  {
   "cell_type": "code",
   "execution_count": 140,
   "id": "1ee38f39-1796-4ed3-a3db-7c7206da6f6a",
   "metadata": {},
   "outputs": [],
   "source": [
    "trained_agent = SAC.load(agent_save_path)"
   ]
  },
  {
   "cell_type": "code",
   "execution_count": 141,
   "id": "3e4e5fbc-d590-4c92-9ecb-0269ef4e2fcd",
   "metadata": {},
   "outputs": [],
   "source": [
    "eval_env = CleaveEnv(csv_path=csv_path, cnn_path=cnn_path, xgb_path=xgb_path)"
   ]
  },
  {
   "cell_type": "code",
   "execution_count": 142,
   "id": "08a610fb-6b15-485d-8afa-8c9905a80172",
   "metadata": {},
   "outputs": [],
   "source": [
    "eval_env.render_mode = \"human\""
   ]
  },
  {
   "cell_type": "code",
   "execution_count": 147,
   "id": "9fdd5a31-a919-4a9b-b0af-1aa1563d830e",
   "metadata": {},
   "outputs": [
    {
     "name": "stdout",
     "output_type": "stream",
     "text": [
      "\n",
      "---------------EPISODE RESET----------------------\n",
      "New Scenario: Fiber = PM15U25d Start Tension = 193\n",
      "Step  1 Tension:  183.0 (Action: -10.00) -> CNN: GOOD, XGB: SAME  | Reward:   99.5\n",
      "Episode 1 finished with a total reward of: 99.50\n",
      "\n",
      "---------------EPISODE RESET----------------------\n",
      "New Scenario: Fiber = PM15U25d Start Tension = 197\n",
      "Step  1 Tension:  187.0 (Action: -10.00) -> CNN: GOOD, XGB: SAME  | Reward:   99.5\n",
      "Episode 2 finished with a total reward of: 99.50\n",
      "\n",
      "---------------EPISODE RESET----------------------\n",
      "New Scenario: Fiber = FG250LA Start Tension = 700\n",
      "Step  1 Tension:  690.0 (Action: -9.81 ) -> CNN: BAD , XGB: LOWER | Reward:   -1.5\n",
      "Step  2 Tension:  682.0 (Action: -7.86 ) -> CNN: BAD , XGB: LOWER | Reward:   -1.4\n",
      "Step  3 Tension:  678.0 (Action: -3.93 ) -> CNN: BAD , XGB: LOWER | Reward:   -1.2\n",
      "Step  4 Tension:  676.0 (Action: -1.92 ) -> CNN: GOOD, XGB: SAME  | Reward:   99.9\n",
      "Episode 3 finished with a total reward of: 95.80\n",
      "\n",
      "---------------EPISODE RESET----------------------\n",
      "New Scenario: Fiber = 400LA Start Tension = 1382\n",
      "Step  1 Tension: 1372.0 (Action: -10.00) -> CNN: BAD , XGB: LOWER | Reward:   -1.5\n",
      "Step  2 Tension: 1362.0 (Action: -9.99 ) -> CNN: BAD , XGB: LOWER | Reward:   -1.5\n",
      "Step  3 Tension: 1352.0 (Action: -9.95 ) -> CNN: BAD , XGB: LOWER | Reward:   -1.5\n",
      "Step  4 Tension: 1342.0 (Action: -9.86 ) -> CNN: BAD , XGB: LOWER | Reward:   -1.5\n",
      "Step  5 Tension: 1332.0 (Action: -9.59 ) -> CNN: BAD , XGB: LOWER | Reward:   -1.5\n",
      "Step  6 Tension: 1323.0 (Action: -8.95 ) -> CNN: BAD , XGB: LOWER | Reward:   -1.4\n",
      "Step  7 Tension: 1315.0 (Action: -7.77 ) -> CNN: BAD , XGB: LOWER | Reward:   -1.4\n",
      "Step  8 Tension: 1309.0 (Action: -5.88 ) -> CNN: BAD , XGB: LOWER | Reward:   -1.3\n",
      "Step  9 Tension: 1305.0 (Action: -3.82 ) -> CNN: BAD , XGB: LOWER | Reward:   -1.2\n",
      "Step 10 Tension: 1303.0 (Action: -2.17 ) -> CNN: BAD , XGB: LOWER | Reward:   -1.1\n",
      "Step 11 Tension: 1302.0 (Action: -1.29 ) -> CNN: BAD , XGB: LOWER | Reward:   -1.1\n",
      "Step 12 Tension: 1301.0 (Action: -0.84 ) -> CNN: BAD , XGB: RAISE | Reward:   -1.1\n",
      "Step 13 Tension: 1301.0 (Action: -0.46 ) -> CNN: BAD , XGB: LOWER | Reward:   -3.0\n",
      "Step 14 Tension: 1301.0 (Action: -0.39 ) -> CNN: BAD , XGB: LOWER | Reward:   -3.0\n",
      "Step 15 Tension: 1301.0 (Action: -0.39 ) -> CNN: BAD , XGB: SAME  | Reward:  -28.0\n",
      "Episode 4 finished with a total reward of: -50.05\n",
      "\n",
      "---------------EPISODE RESET----------------------\n",
      "New Scenario: Fiber = 400LA Start Tension = 1147\n",
      "Step  1 Tension: 1137.0 (Action: -9.99 ) -> CNN: GOOD, XGB: SAME  | Reward:   99.5\n",
      "Episode 5 finished with a total reward of: 99.50\n"
     ]
    }
   ],
   "source": [
    "for episode in range(5):\n",
    "        obs, info = eval_env.reset()\n",
    "        done = False\n",
    "        episode_reward = 0\n",
    "        while not done:\n",
    "            action, _ = trained_agent.predict(obs, deterministic=True)\n",
    "            \n",
    "            obs, reward, terminated, truncated, info = eval_env.step(action)\n",
    "            \n",
    "            episode_reward += reward\n",
    "            done = terminated or truncated\n",
    "\n",
    "        print(f\"Episode {episode + 1} finished with a total reward of: {episode_reward:.2f}\")\n",
    "\n",
    "eval_env.close()"
   ]
  },
  {
   "cell_type": "code",
   "execution_count": null,
   "id": "cc0a52a4-b063-470d-863a-4126670d8969",
   "metadata": {},
   "outputs": [],
   "source": []
  }
 ],
 "metadata": {
  "kernelspec": {
   "display_name": "machine_learning",
   "language": "python",
   "name": "machine_learning"
  },
  "language_info": {
   "codemirror_mode": {
    "name": "ipython",
    "version": 3
   },
   "file_extension": ".py",
   "mimetype": "text/x-python",
   "name": "python",
   "nbconvert_exporter": "python",
   "pygments_lexer": "ipython3",
   "version": "3.10.10"
  }
 },
 "nbformat": 4,
 "nbformat_minor": 5
}
